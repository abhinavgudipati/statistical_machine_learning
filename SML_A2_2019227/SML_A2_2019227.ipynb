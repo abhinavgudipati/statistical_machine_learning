{
 "cells": [
  {
   "cell_type": "code",
   "execution_count": 1,
   "metadata": {
    "id": "VY1GbIp-6RpP"
   },
   "outputs": [],
   "source": [
    "import numpy as np\n",
    "import pandas as pd\n",
    "import matplotlib.pyplot as plt\n",
    "from scipy.stats import bernoulli\n",
    "from sklearn.model_selection import train_test_split\n",
    "import seaborn as sns"
   ]
  },
  {
   "cell_type": "code",
   "execution_count": 2,
   "metadata": {
    "id": "q1Da9DT-6nqd"
   },
   "outputs": [],
   "source": [
    "np.random.seed(0)"
   ]
  },
  {
   "cell_type": "code",
   "execution_count": 3,
   "metadata": {
    "id": "PezsEuhI6zQv"
   },
   "outputs": [],
   "source": [
    "def create_data(p,size):\n",
    "    return bernoulli.rvs(p,size=size)"
   ]
  },
  {
   "cell_type": "code",
   "execution_count": 4,
   "metadata": {
    "colab": {
     "base_uri": "https://localhost:8080/",
     "height": 206
    },
    "id": "uaosrs0U7csz",
    "outputId": "fdb3c364-6776-4c37-944a-4229fa49246e"
   },
   "outputs": [
    {
     "data": {
      "text/html": [
       "\n",
       "  <div id=\"df-05d486f3-4ef7-4910-ba28-cdd0ff044874\">\n",
       "    <div class=\"colab-df-container\">\n",
       "      <div>\n",
       "<style scoped>\n",
       "    .dataframe tbody tr th:only-of-type {\n",
       "        vertical-align: middle;\n",
       "    }\n",
       "\n",
       "    .dataframe tbody tr th {\n",
       "        vertical-align: top;\n",
       "    }\n",
       "\n",
       "    .dataframe thead th {\n",
       "        text-align: right;\n",
       "    }\n",
       "</style>\n",
       "<table border=\"1\" class=\"dataframe\">\n",
       "  <thead>\n",
       "    <tr style=\"text-align: right;\">\n",
       "      <th></th>\n",
       "      <th>x1</th>\n",
       "      <th>x2</th>\n",
       "    </tr>\n",
       "  </thead>\n",
       "  <tbody>\n",
       "    <tr>\n",
       "      <th>0</th>\n",
       "      <td>1</td>\n",
       "      <td>1</td>\n",
       "    </tr>\n",
       "    <tr>\n",
       "      <th>1</th>\n",
       "      <td>1</td>\n",
       "      <td>1</td>\n",
       "    </tr>\n",
       "    <tr>\n",
       "      <th>2</th>\n",
       "      <td>1</td>\n",
       "      <td>1</td>\n",
       "    </tr>\n",
       "    <tr>\n",
       "      <th>3</th>\n",
       "      <td>1</td>\n",
       "      <td>0</td>\n",
       "    </tr>\n",
       "    <tr>\n",
       "      <th>4</th>\n",
       "      <td>0</td>\n",
       "      <td>1</td>\n",
       "    </tr>\n",
       "  </tbody>\n",
       "</table>\n",
       "</div>\n",
       "      <button class=\"colab-df-convert\" onclick=\"convertToInteractive('df-05d486f3-4ef7-4910-ba28-cdd0ff044874')\"\n",
       "              title=\"Convert this dataframe to an interactive table.\"\n",
       "              style=\"display:none;\">\n",
       "        \n",
       "  <svg xmlns=\"http://www.w3.org/2000/svg\" height=\"24px\"viewBox=\"0 0 24 24\"\n",
       "       width=\"24px\">\n",
       "    <path d=\"M0 0h24v24H0V0z\" fill=\"none\"/>\n",
       "    <path d=\"M18.56 5.44l.94 2.06.94-2.06 2.06-.94-2.06-.94-.94-2.06-.94 2.06-2.06.94zm-11 1L8.5 8.5l.94-2.06 2.06-.94-2.06-.94L8.5 2.5l-.94 2.06-2.06.94zm10 10l.94 2.06.94-2.06 2.06-.94-2.06-.94-.94-2.06-.94 2.06-2.06.94z\"/><path d=\"M17.41 7.96l-1.37-1.37c-.4-.4-.92-.59-1.43-.59-.52 0-1.04.2-1.43.59L10.3 9.45l-7.72 7.72c-.78.78-.78 2.05 0 2.83L4 21.41c.39.39.9.59 1.41.59.51 0 1.02-.2 1.41-.59l7.78-7.78 2.81-2.81c.8-.78.8-2.07 0-2.86zM5.41 20L4 18.59l7.72-7.72 1.47 1.35L5.41 20z\"/>\n",
       "  </svg>\n",
       "      </button>\n",
       "      \n",
       "  <style>\n",
       "    .colab-df-container {\n",
       "      display:flex;\n",
       "      flex-wrap:wrap;\n",
       "      gap: 12px;\n",
       "    }\n",
       "\n",
       "    .colab-df-convert {\n",
       "      background-color: #E8F0FE;\n",
       "      border: none;\n",
       "      border-radius: 50%;\n",
       "      cursor: pointer;\n",
       "      display: none;\n",
       "      fill: #1967D2;\n",
       "      height: 32px;\n",
       "      padding: 0 0 0 0;\n",
       "      width: 32px;\n",
       "    }\n",
       "\n",
       "    .colab-df-convert:hover {\n",
       "      background-color: #E2EBFA;\n",
       "      box-shadow: 0px 1px 2px rgba(60, 64, 67, 0.3), 0px 1px 3px 1px rgba(60, 64, 67, 0.15);\n",
       "      fill: #174EA6;\n",
       "    }\n",
       "\n",
       "    [theme=dark] .colab-df-convert {\n",
       "      background-color: #3B4455;\n",
       "      fill: #D2E3FC;\n",
       "    }\n",
       "\n",
       "    [theme=dark] .colab-df-convert:hover {\n",
       "      background-color: #434B5C;\n",
       "      box-shadow: 0px 1px 3px 1px rgba(0, 0, 0, 0.15);\n",
       "      filter: drop-shadow(0px 1px 2px rgba(0, 0, 0, 0.3));\n",
       "      fill: #FFFFFF;\n",
       "    }\n",
       "  </style>\n",
       "\n",
       "      <script>\n",
       "        const buttonEl =\n",
       "          document.querySelector('#df-05d486f3-4ef7-4910-ba28-cdd0ff044874 button.colab-df-convert');\n",
       "        buttonEl.style.display =\n",
       "          google.colab.kernel.accessAllowed ? 'block' : 'none';\n",
       "\n",
       "        async function convertToInteractive(key) {\n",
       "          const element = document.querySelector('#df-05d486f3-4ef7-4910-ba28-cdd0ff044874');\n",
       "          const dataTable =\n",
       "            await google.colab.kernel.invokeFunction('convertToInteractive',\n",
       "                                                     [key], {});\n",
       "          if (!dataTable) return;\n",
       "\n",
       "          const docLinkHtml = 'Like what you see? Visit the ' +\n",
       "            '<a target=\"_blank\" href=https://colab.research.google.com/notebooks/data_table.ipynb>data table notebook</a>'\n",
       "            + ' to learn more about interactive tables.';\n",
       "          element.innerHTML = '';\n",
       "          dataTable['output_type'] = 'display_data';\n",
       "          await google.colab.output.renderOutput(dataTable, element);\n",
       "          const docLink = document.createElement('div');\n",
       "          docLink.innerHTML = docLinkHtml;\n",
       "          element.appendChild(docLink);\n",
       "        }\n",
       "      </script>\n",
       "    </div>\n",
       "  </div>\n",
       "  "
      ],
      "text/plain": [
       "   x1  x2\n",
       "0   1   1\n",
       "1   1   1\n",
       "2   1   1\n",
       "3   1   0\n",
       "4   0   1"
      ]
     },
     "execution_count": 4,
     "metadata": {},
     "output_type": "execute_result"
    }
   ],
   "source": [
    "x1,x2=create_data(0.5,100),create_data(0.8,100)\n",
    "df1=pd.DataFrame({\"x1\":x1,\"x2\":x2})\n",
    "df1.head()"
   ]
  },
  {
   "cell_type": "code",
   "execution_count": 5,
   "metadata": {
    "colab": {
     "base_uri": "https://localhost:8080/",
     "height": 206
    },
    "id": "hw2PqDT87sMI",
    "outputId": "ee954a2c-6ab3-4c57-8c2c-7b84808666b2"
   },
   "outputs": [
    {
     "data": {
      "text/html": [
       "\n",
       "  <div id=\"df-73453217-4c11-4501-ada8-354a726ebb13\">\n",
       "    <div class=\"colab-df-container\">\n",
       "      <div>\n",
       "<style scoped>\n",
       "    .dataframe tbody tr th:only-of-type {\n",
       "        vertical-align: middle;\n",
       "    }\n",
       "\n",
       "    .dataframe tbody tr th {\n",
       "        vertical-align: top;\n",
       "    }\n",
       "\n",
       "    .dataframe thead th {\n",
       "        text-align: right;\n",
       "    }\n",
       "</style>\n",
       "<table border=\"1\" class=\"dataframe\">\n",
       "  <thead>\n",
       "    <tr style=\"text-align: right;\">\n",
       "      <th></th>\n",
       "      <th>x1</th>\n",
       "      <th>x2</th>\n",
       "    </tr>\n",
       "  </thead>\n",
       "  <tbody>\n",
       "    <tr>\n",
       "      <th>0</th>\n",
       "      <td>1</td>\n",
       "      <td>1</td>\n",
       "    </tr>\n",
       "    <tr>\n",
       "      <th>1</th>\n",
       "      <td>1</td>\n",
       "      <td>0</td>\n",
       "    </tr>\n",
       "    <tr>\n",
       "      <th>2</th>\n",
       "      <td>1</td>\n",
       "      <td>0</td>\n",
       "    </tr>\n",
       "    <tr>\n",
       "      <th>3</th>\n",
       "      <td>1</td>\n",
       "      <td>0</td>\n",
       "    </tr>\n",
       "    <tr>\n",
       "      <th>4</th>\n",
       "      <td>1</td>\n",
       "      <td>0</td>\n",
       "    </tr>\n",
       "  </tbody>\n",
       "</table>\n",
       "</div>\n",
       "      <button class=\"colab-df-convert\" onclick=\"convertToInteractive('df-73453217-4c11-4501-ada8-354a726ebb13')\"\n",
       "              title=\"Convert this dataframe to an interactive table.\"\n",
       "              style=\"display:none;\">\n",
       "        \n",
       "  <svg xmlns=\"http://www.w3.org/2000/svg\" height=\"24px\"viewBox=\"0 0 24 24\"\n",
       "       width=\"24px\">\n",
       "    <path d=\"M0 0h24v24H0V0z\" fill=\"none\"/>\n",
       "    <path d=\"M18.56 5.44l.94 2.06.94-2.06 2.06-.94-2.06-.94-.94-2.06-.94 2.06-2.06.94zm-11 1L8.5 8.5l.94-2.06 2.06-.94-2.06-.94L8.5 2.5l-.94 2.06-2.06.94zm10 10l.94 2.06.94-2.06 2.06-.94-2.06-.94-.94-2.06-.94 2.06-2.06.94z\"/><path d=\"M17.41 7.96l-1.37-1.37c-.4-.4-.92-.59-1.43-.59-.52 0-1.04.2-1.43.59L10.3 9.45l-7.72 7.72c-.78.78-.78 2.05 0 2.83L4 21.41c.39.39.9.59 1.41.59.51 0 1.02-.2 1.41-.59l7.78-7.78 2.81-2.81c.8-.78.8-2.07 0-2.86zM5.41 20L4 18.59l7.72-7.72 1.47 1.35L5.41 20z\"/>\n",
       "  </svg>\n",
       "      </button>\n",
       "      \n",
       "  <style>\n",
       "    .colab-df-container {\n",
       "      display:flex;\n",
       "      flex-wrap:wrap;\n",
       "      gap: 12px;\n",
       "    }\n",
       "\n",
       "    .colab-df-convert {\n",
       "      background-color: #E8F0FE;\n",
       "      border: none;\n",
       "      border-radius: 50%;\n",
       "      cursor: pointer;\n",
       "      display: none;\n",
       "      fill: #1967D2;\n",
       "      height: 32px;\n",
       "      padding: 0 0 0 0;\n",
       "      width: 32px;\n",
       "    }\n",
       "\n",
       "    .colab-df-convert:hover {\n",
       "      background-color: #E2EBFA;\n",
       "      box-shadow: 0px 1px 2px rgba(60, 64, 67, 0.3), 0px 1px 3px 1px rgba(60, 64, 67, 0.15);\n",
       "      fill: #174EA6;\n",
       "    }\n",
       "\n",
       "    [theme=dark] .colab-df-convert {\n",
       "      background-color: #3B4455;\n",
       "      fill: #D2E3FC;\n",
       "    }\n",
       "\n",
       "    [theme=dark] .colab-df-convert:hover {\n",
       "      background-color: #434B5C;\n",
       "      box-shadow: 0px 1px 3px 1px rgba(0, 0, 0, 0.15);\n",
       "      filter: drop-shadow(0px 1px 2px rgba(0, 0, 0, 0.3));\n",
       "      fill: #FFFFFF;\n",
       "    }\n",
       "  </style>\n",
       "\n",
       "      <script>\n",
       "        const buttonEl =\n",
       "          document.querySelector('#df-73453217-4c11-4501-ada8-354a726ebb13 button.colab-df-convert');\n",
       "        buttonEl.style.display =\n",
       "          google.colab.kernel.accessAllowed ? 'block' : 'none';\n",
       "\n",
       "        async function convertToInteractive(key) {\n",
       "          const element = document.querySelector('#df-73453217-4c11-4501-ada8-354a726ebb13');\n",
       "          const dataTable =\n",
       "            await google.colab.kernel.invokeFunction('convertToInteractive',\n",
       "                                                     [key], {});\n",
       "          if (!dataTable) return;\n",
       "\n",
       "          const docLinkHtml = 'Like what you see? Visit the ' +\n",
       "            '<a target=\"_blank\" href=https://colab.research.google.com/notebooks/data_table.ipynb>data table notebook</a>'\n",
       "            + ' to learn more about interactive tables.';\n",
       "          element.innerHTML = '';\n",
       "          dataTable['output_type'] = 'display_data';\n",
       "          await google.colab.output.renderOutput(dataTable, element);\n",
       "          const docLink = document.createElement('div');\n",
       "          docLink.innerHTML = docLinkHtml;\n",
       "          element.appendChild(docLink);\n",
       "        }\n",
       "      </script>\n",
       "    </div>\n",
       "  </div>\n",
       "  "
      ],
      "text/plain": [
       "   x1  x2\n",
       "0   1   1\n",
       "1   1   0\n",
       "2   1   0\n",
       "3   1   0\n",
       "4   1   0"
      ]
     },
     "execution_count": 5,
     "metadata": {},
     "output_type": "execute_result"
    }
   ],
   "source": [
    "x1,x2 = create_data(0.9,100), create_data(0.2,100)\n",
    "df2=pd.DataFrame({\"x1\":x1,\"x2\":x2})\n",
    "df2.head()"
   ]
  },
  {
   "cell_type": "code",
   "execution_count": 6,
   "metadata": {
    "colab": {
     "base_uri": "https://localhost:8080/"
    },
    "id": "zNwxaVFG78Br",
    "outputId": "3af6c68c-003b-46c0-cbe1-f82ce5d32ba6"
   },
   "outputs": [
    {
     "data": {
      "text/plain": [
       "(   x1  x2\n",
       " 0   1   1\n",
       " 1   1   1\n",
       " 2   1   1\n",
       " 3   1   0\n",
       " 4   0   1, (200, 2))"
      ]
     },
     "execution_count": 6,
     "metadata": {},
     "output_type": "execute_result"
    }
   ],
   "source": [
    "df = pd.concat([df1, df2])\n",
    "df.head(),df.shape"
   ]
  },
  {
   "cell_type": "code",
   "execution_count": 7,
   "metadata": {
    "id": "jfQ0XA8a8ZTK"
   },
   "outputs": [],
   "source": [
    "a = 0.5\n",
    "train_df1, test_df1 = train_test_split(df1, test_size = a)\n",
    "train_df2, test_df2 = train_test_split(df2, test_size = a)"
   ]
  },
  {
   "cell_type": "code",
   "execution_count": 8,
   "metadata": {
    "id": "CBJU-3SZ9_m6"
   },
   "outputs": [],
   "source": [
    "def do_something(df):\n",
    "    res =[]\n",
    "    i = 1 \n",
    "    while(i<51):\n",
    "        temp = df.sample(i)\n",
    "        temp.columns = ['xx','yy']\n",
    "        temp_prediction =np.array([np.sum(temp['xx'])/i, np.sum(temp['yy'])/i])\n",
    "        res.append(temp_prediction)\n",
    "        i = i + 1 \n",
    "    res=np.array(res)\n",
    "    return res"
   ]
  },
  {
   "cell_type": "code",
   "execution_count": 9,
   "metadata": {
    "colab": {
     "base_uri": "https://localhost:8080/"
    },
    "id": "JkbLjQQPBAk0",
    "outputId": "1dff48e3-5e11-4e31-9f4d-47ceffedb277"
   },
   "outputs": [
    {
     "data": {
      "text/plain": [
       "(array([[0.        , 0.        ],\n",
       "        [0.5       , 0.5       ],\n",
       "        [0.        , 0.66666667],\n",
       "        [0.75      , 1.        ],\n",
       "        [0.6       , 0.8       ],\n",
       "        [0.5       , 0.66666667],\n",
       "        [0.42857143, 0.85714286],\n",
       "        [0.75      , 0.75      ],\n",
       "        [0.11111111, 0.77777778],\n",
       "        [0.5       , 0.8       ],\n",
       "        [0.09090909, 0.90909091],\n",
       "        [0.33333333, 0.91666667],\n",
       "        [0.46153846, 0.69230769],\n",
       "        [0.57142857, 1.        ],\n",
       "        [0.53333333, 0.86666667],\n",
       "        [0.25      , 0.875     ],\n",
       "        [0.58823529, 0.82352941],\n",
       "        [0.66666667, 0.77777778],\n",
       "        [0.57894737, 0.89473684],\n",
       "        [0.45      , 0.7       ],\n",
       "        [0.57142857, 0.9047619 ],\n",
       "        [0.40909091, 0.81818182],\n",
       "        [0.39130435, 0.7826087 ],\n",
       "        [0.45833333, 0.91666667],\n",
       "        [0.52      , 0.84      ],\n",
       "        [0.38461538, 0.73076923],\n",
       "        [0.55555556, 0.66666667],\n",
       "        [0.46428571, 0.78571429],\n",
       "        [0.5862069 , 0.93103448],\n",
       "        [0.5       , 0.73333333],\n",
       "        [0.48387097, 0.70967742],\n",
       "        [0.53125   , 0.9375    ],\n",
       "        [0.36363636, 0.78787879],\n",
       "        [0.38235294, 0.73529412],\n",
       "        [0.48571429, 0.82857143],\n",
       "        [0.58333333, 0.80555556],\n",
       "        [0.43243243, 0.83783784],\n",
       "        [0.44736842, 0.76315789],\n",
       "        [0.56410256, 0.79487179],\n",
       "        [0.6       , 0.8       ],\n",
       "        [0.43902439, 0.7804878 ],\n",
       "        [0.52380952, 0.71428571],\n",
       "        [0.39534884, 0.72093023],\n",
       "        [0.47727273, 0.70454545],\n",
       "        [0.48888889, 0.73333333],\n",
       "        [0.47826087, 0.7826087 ],\n",
       "        [0.53191489, 0.78723404],\n",
       "        [0.45833333, 0.75      ],\n",
       "        [0.40816327, 0.79591837],\n",
       "        [0.5       , 0.78      ]]), array([0.46159947, 0.77866911]))"
      ]
     },
     "execution_count": 9,
     "metadata": {},
     "output_type": "execute_result"
    }
   ],
   "source": [
    "res=do_something(df1)\n",
    "mle1 = np.average(res, axis=0)\n",
    "res,mle1"
   ]
  },
  {
   "cell_type": "code",
   "execution_count": 10,
   "metadata": {
    "colab": {
     "base_uri": "https://localhost:8080/",
     "height": 548
    },
    "id": "LCbJyWPe-u8l",
    "outputId": "0157bccb-5c6f-4d34-fc68-ff0a1bfa8a04"
   },
   "outputs": [
    {
     "data": {
      "text/plain": [
       "(<matplotlib.axes._subplots.AxesSubplot at 0x7fdf175882d0>,\n",
       " <matplotlib.axes._subplots.AxesSubplot at 0x7fdf02de9250>)"
      ]
     },
     "execution_count": 10,
     "metadata": {},
     "output_type": "execute_result"
    },
    {
     "data": {
      "image/png": "[encoded data removed]",
      "text/plain": [
       "<Figure size 432x288 with 1 Axes>"
      ]
     },
     "metadata": {
      "needs_background": "light"
     },
     "output_type": "display_data"
    },
    {
     "data": {
      "image/png": "[encoded data removed]",
      "text/plain": [
       "<Figure size 432x288 with 1 Axes>"
      ]
     },
     "metadata": {
      "needs_background": "light"
     },
     "output_type": "display_data"
    }
   ],
   "source": [
    "pd.DataFrame(res[:,0]).plot(),pd.DataFrame(res[:,1]).plot()"
   ]
  },
  {
   "cell_type": "code",
   "execution_count": 11,
   "metadata": {
    "colab": {
     "base_uri": "https://localhost:8080/"
    },
    "id": "mTm0iKoSAZll",
    "outputId": "1cb270b9-85be-4359-c386-78d11eda9f13"
   },
   "outputs": [
    {
     "data": {
      "text/plain": [
       "(array([[1.        , 1.        ],\n",
       "        [1.        , 1.        ],\n",
       "        [1.        , 1.        ],\n",
       "        [0.5       , 0.25      ],\n",
       "        [0.6       , 0.8       ],\n",
       "        [0.66666667, 1.        ],\n",
       "        [0.42857143, 0.71428571],\n",
       "        [0.5       , 1.        ],\n",
       "        [0.22222222, 0.77777778],\n",
       "        [0.5       , 0.9       ],\n",
       "        [0.45454545, 0.81818182],\n",
       "        [0.58333333, 0.83333333],\n",
       "        [0.61538462, 0.92307692],\n",
       "        [0.57142857, 0.78571429],\n",
       "        [0.46666667, 0.66666667],\n",
       "        [0.625     , 0.75      ],\n",
       "        [0.35294118, 0.82352941],\n",
       "        [0.5       , 0.66666667],\n",
       "        [0.52631579, 0.73684211],\n",
       "        [0.65      , 0.8       ],\n",
       "        [0.61904762, 0.76190476],\n",
       "        [0.45454545, 0.68181818],\n",
       "        [0.52173913, 0.7826087 ],\n",
       "        [0.5       , 0.75      ],\n",
       "        [0.4       , 0.88      ],\n",
       "        [0.46153846, 0.73076923],\n",
       "        [0.51851852, 0.77777778],\n",
       "        [0.42857143, 0.85714286],\n",
       "        [0.55172414, 0.86206897],\n",
       "        [0.46666667, 0.76666667],\n",
       "        [0.4516129 , 0.58064516],\n",
       "        [0.5       , 0.78125   ],\n",
       "        [0.48484848, 0.81818182],\n",
       "        [0.52941176, 0.82352941],\n",
       "        [0.34285714, 0.8       ],\n",
       "        [0.41666667, 0.75      ],\n",
       "        [0.37837838, 0.89189189],\n",
       "        [0.44736842, 0.84210526],\n",
       "        [0.48717949, 0.66666667],\n",
       "        [0.5       , 0.825     ],\n",
       "        [0.53658537, 0.75609756],\n",
       "        [0.42857143, 0.80952381],\n",
       "        [0.55813953, 0.72093023],\n",
       "        [0.56818182, 0.81818182],\n",
       "        [0.55555556, 0.84444444],\n",
       "        [0.56521739, 0.80434783],\n",
       "        [0.46808511, 0.80851064],\n",
       "        [0.54166667, 0.875     ],\n",
       "        [0.44897959, 0.7755102 ],\n",
       "        [0.48      , 0.74      ]]), array([0.52749466, 0.79657297]))"
      ]
     },
     "execution_count": 11,
     "metadata": {},
     "output_type": "execute_result"
    }
   ],
   "source": [
    "res=do_something(df1)\n",
    "mle2 = np.average(res, axis=0)\n",
    "res,mle2"
   ]
  },
  {
   "cell_type": "code",
   "execution_count": 12,
   "metadata": {
    "colab": {
     "base_uri": "https://localhost:8080/",
     "height": 548
    },
    "id": "VIoi-HtRB1m3",
    "outputId": "f168430b-0f77-41d6-abc0-65afce13ac8a"
   },
   "outputs": [
    {
     "data": {
      "text/plain": [
       "(<matplotlib.axes._subplots.AxesSubplot at 0x7fdf02d65890>,\n",
       " <matplotlib.axes._subplots.AxesSubplot at 0x7fdf028469d0>)"
      ]
     },
     "execution_count": 12,
     "metadata": {},
     "output_type": "execute_result"
    },
    {
     "data": {
      "image/png": "[encoded data removed]",
      "text/plain": [
       "<Figure size 432x288 with 1 Axes>"
      ]
     },
     "metadata": {
      "needs_background": "light"
     },
     "output_type": "display_data"
    },
    {
     "data": {
      "image/png": "[encoded data removed]",
      "text/plain": [
       "<Figure size 432x288 with 1 Axes>"
      ]
     },
     "metadata": {
      "needs_background": "light"
     },
     "output_type": "display_data"
    }
   ],
   "source": [
    "pd.DataFrame(res[:,0]).plot(),pd.DataFrame(res[:,1]).plot()"
   ]
  },
  {
   "cell_type": "code",
   "execution_count": 13,
   "metadata": {
    "colab": {
     "base_uri": "https://localhost:8080/",
     "height": 352
    },
    "id": "HhXn66cVBaoA",
    "outputId": "eb8ea1a1-b972-4e68-a4d6-cd6d86e581e8"
   },
   "outputs": [
    {
     "name": "stderr",
     "output_type": "stream",
     "text": [
      "/usr/local/lib/python3.7/dist-packages/seaborn/_decorators.py:43: FutureWarning: Pass the following variables as keyword args: x, y. From version 0.12, the only valid positional argument will be `data`, and passing other arguments without an explicit keyword will result in an error or misinterpretation.\n",
      "  FutureWarning\n"
     ]
    },
    {
     "data": {
      "text/plain": [
       "<matplotlib.axes._subplots.AxesSubplot at 0x7fdf02813890>"
      ]
     },
     "execution_count": 13,
     "metadata": {},
     "output_type": "execute_result"
    },
    {
     "data": {
      "image/png": "[encoded data removed]",
      "text/plain": [
       "<Figure size 432x288 with 1 Axes>"
      ]
     },
     "metadata": {
      "needs_background": "light"
     },
     "output_type": "display_data"
    }
   ],
   "source": [
    "sns.scatterplot(train_df1['x1'], train_df1['x2'])"
   ]
  },
  {
   "cell_type": "code",
   "execution_count": 14,
   "metadata": {
    "id": "WTgi_Zg4BszJ"
   },
   "outputs": [],
   "source": [
    "def derivative(mu, x):\n",
    "    return (mu**x)*((1-mu)**x)"
   ]
  },
  {
   "cell_type": "code",
   "execution_count": 15,
   "metadata": {
    "id": "TSJX0MAoCr_T"
   },
   "outputs": [],
   "source": [
    "def do_something2(mle1,mle2,test_df):\n",
    "    temp1 = list(derivative(mle1[0*1+0], test_df['x1'])*derivative(mle1[1], test_df['x1']))\n",
    "    temp2 = list(derivative(mle2[0*1+0], test_df['x1'])*derivative(mle2[1], test_df['x2']))\n",
    "    cat = []\n",
    "    i = 1 \n",
    "    while(i<len(temp1)):\n",
    "        if temp1[i]>temp2[i]:\n",
    "          cat.append(0*1+0)\n",
    "        else:\n",
    "          cat.append(1*1+0)\n",
    "        i = i + 1*1\n",
    "    return np.array(cat)"
   ]
  },
  {
   "cell_type": "code",
   "execution_count": 16,
   "metadata": {
    "colab": {
     "base_uri": "https://localhost:8080/"
    },
    "id": "9jY20nyFD19G",
    "outputId": "b9aa2467-11d3-4d42-fc6d-50413833df44"
   },
   "outputs": [
    {
     "data": {
      "text/plain": [
       "array([0, 0, 0, 0, 0, 0, 0, 1, 0, 0, 0, 0, 1, 0, 0, 0, 0, 0, 1, 1, 0, 1,\n",
       "       0, 0, 0, 0, 0, 0, 1, 0, 0, 0, 0, 1, 0, 0, 0, 1, 0, 1, 0, 0, 0, 0,\n",
       "       0, 0, 0, 1, 1])"
      ]
     },
     "execution_count": 16,
     "metadata": {},
     "output_type": "execute_result"
    }
   ],
   "source": [
    "do_something2(mle1,mle2,test_df1)"
   ]
  },
  {
   "cell_type": "code",
   "execution_count": 17,
   "metadata": {
    "colab": {
     "base_uri": "https://localhost:8080/"
    },
    "id": "eUx_4OXqDNvI",
    "outputId": "b1e9bbac-7da9-4b0b-e6e2-e63c0430a45a"
   },
   "outputs": [
    {
     "data": {
      "text/plain": [
       "array([1, 1, 0, 1, 1, 1, 1, 1, 1, 0, 1, 1, 1, 1, 1, 1, 1, 1, 1, 0, 1, 1,\n",
       "       1, 1, 0, 1, 1, 0, 1, 1, 1, 1, 0, 1, 1, 1, 1, 1, 1, 1, 1, 1, 0, 1,\n",
       "       1, 1, 1, 1, 1])"
      ]
     },
     "execution_count": 17,
     "metadata": {},
     "output_type": "execute_result"
    }
   ],
   "source": [
    "do_something2(mle1,mle2,test_df2)"
   ]
  },
  {
   "cell_type": "code",
   "execution_count": 17,
   "metadata": {
    "id": "R0P3KsnTE38d"
   },
   "outputs": [],
   "source": []
  }
 ],
 "metadata": {
  "colab": {
   "name": "Abhinav.ipynb",
   "provenance": []
  },
  "kernelspec": {
   "display_name": "Python 3",
   "language": "python",
   "name": "python3"
  },
  "language_info": {
   "codemirror_mode": {
    "name": "ipython",
    "version": 3
   },
   "file_extension": ".py",
   "mimetype": "text/x-python",
   "name": "python",
   "nbconvert_exporter": "python",
   "pygments_lexer": "ipython3",
   "version": "3.8.3"
  }
 },
 "nbformat": 4,
 "nbformat_minor": 1
}
