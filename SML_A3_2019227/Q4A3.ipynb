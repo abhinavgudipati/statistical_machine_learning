{
 "cells": [
  {
   "cell_type": "code",
   "execution_count": 1,
   "metadata": {},
   "outputs": [],
   "source": [
    "import os\n",
    "import numpy as np\n",
    "import operator as op\n",
    "import pandas as pd\n",
    "import matplotlib.pyplot as plt\n",
    "from keras.datasets import mnist\n",
    "from sklearn.discriminant_analysis import LinearDiscriminantAnalysis\n",
    "from sklearn.decomposition import PCA"
   ]
  },
  {
   "cell_type": "code",
   "execution_count": 2,
   "metadata": {},
   "outputs": [
    {
     "data": {
      "text/plain": [
       "'/Users/abhinavgudipati/Desktop'"
      ]
     },
     "execution_count": 2,
     "metadata": {},
     "output_type": "execute_result"
    }
   ],
   "source": [
    "pwd"
   ]
  },
  {
   "cell_type": "code",
   "execution_count": 3,
   "metadata": {},
   "outputs": [],
   "source": [
    "os.chdir(\"/Users/abhinavgudipati/Desktop/SML_Assignment_03/\")"
   ]
  },
  {
   "cell_type": "code",
   "execution_count": 4,
   "metadata": {},
   "outputs": [],
   "source": [
    "(X_train, y_train), (X_test, y_test) = mnist.load_data()\n",
    "X_train = np.reshape(X_train, (X_train.shape[0], X_train.shape[1]*X_train.shape[2])) \n",
    "X_test = np.reshape(X_test, (X_test.shape[0], X_test.shape[1]*X_test.shape[2]))"
   ]
  },
  {
   "cell_type": "code",
   "execution_count": 5,
   "metadata": {},
   "outputs": [
    {
     "data": {
      "text/plain": [
       "(60000, 784)"
      ]
     },
     "execution_count": 5,
     "metadata": {},
     "output_type": "execute_result"
    }
   ],
   "source": [
    "X_train.shape"
   ]
  },
  {
   "cell_type": "code",
   "execution_count": 6,
   "metadata": {},
   "outputs": [],
   "source": [
    "pca = PCA(n_components = 15)\n",
    "pca.fit(X_train)\n",
    "x_train = pca.transform(X_train)\n",
    "x_test = pca.transform(X_test)"
   ]
  },
  {
   "cell_type": "code",
   "execution_count": 7,
   "metadata": {},
   "outputs": [],
   "source": [
    "def fuctionFDA(X, y):\n",
    "    N, D = X.shape\n",
    "    St = op.matmul((op.sub(X,np.mean(X))).T,(op.sub(X,np.mean(X))))\n",
    "    print(St.shape)\n",
    "    Sw = np.zeros((D, D))\n",
    "    classes = op.add(np.max(y),1)\n",
    "    for c in range(classes):\n",
    "        Xc = X[op.eq(y,c), :]\n",
    "        Sw = op.iadd(Sw,op.matmul((op.sub(Xc , np.mean(Xc))).T ,(op.sub(Xc , np.mean(Xc)))))\n",
    "    Sw = op.iadd(Sw,np.dot((op.sub(Xc , np.mean(Xc))).T, (op.sub(Xc,np.mean(Xc)))))\n",
    "    print(Sw.shape)\n",
    "    w, v = np.linalg.eigh(op.matmul(np.linalg.inv(Sw),(op.sub(St,Sw))))\n",
    "    W = [np.array(x) for _, x in sorted(zip(w, v), reverse=True)]\n",
    "    return np.array(W[ : op.sub(classes,1)])"
   ]
  },
  {
   "cell_type": "code",
   "execution_count": 8,
   "metadata": {},
   "outputs": [
    {
     "name": "stdout",
     "output_type": "stream",
     "text": [
      "(15, 15)\n",
      "(15, 15)\n"
     ]
    }
   ],
   "source": [
    "L = fuctionFDA(x_train,y_train)"
   ]
  },
  {
   "cell_type": "code",
   "execution_count": 9,
   "metadata": {},
   "outputs": [
    {
     "data": {
      "text/plain": [
       "(60000, 9)"
      ]
     },
     "execution_count": 9,
     "metadata": {},
     "output_type": "execute_result"
    }
   ],
   "source": [
    "Y_train = op.matmul(x_train,L.T)\n",
    "Y_test = op.matmul(x_test,L.T)\n",
    "Y_train.shape"
   ]
  },
  {
   "cell_type": "code",
   "execution_count": 10,
   "metadata": {},
   "outputs": [
    {
     "data": {
      "text/plain": [
       "LinearDiscriminantAnalysis()"
      ]
     },
     "execution_count": 10,
     "metadata": {},
     "output_type": "execute_result"
    }
   ],
   "source": [
    "# part c\n",
    "lda = LinearDiscriminantAnalysis()\n",
    "lda.fit(Y_train, y_train)"
   ]
  },
  {
   "cell_type": "code",
   "execution_count": 11,
   "metadata": {},
   "outputs": [
    {
     "data": {
      "text/plain": [
       "0.6874"
      ]
     },
     "execution_count": 11,
     "metadata": {},
     "output_type": "execute_result"
    }
   ],
   "source": [
    "lda.score(Y_test, y_test)"
   ]
  },
  {
   "cell_type": "code",
   "execution_count": 12,
   "metadata": {},
   "outputs": [],
   "source": [
    "classes = op.add(np.max(y_train),1)\n",
    "glasses, total = op.mul([0],classes), op.mul([0],classes)\n",
    "y_predicted = lda.predict(Y_test)\n",
    "for i in range(y_test.shape[0]):\n",
    "    glasses[y_test[i]] = op.iadd(glasses[y_test[i]],int(op.eq(y_test[i],y_predicted[i])))\n",
    "    total[y_test[i]] = op.iadd(total[y_test[i]],1)"
   ]
  },
  {
   "cell_type": "code",
   "execution_count": 13,
   "metadata": {},
   "outputs": [],
   "source": [
    "def classAccuracy(classes):\n",
    "    for i in range(op.add(np.max(y_train),1)):\n",
    "        ans = glasses[i]/total[i]\n",
    "        print(f'Accuracy of class {i} is {ans}')"
   ]
  },
  {
   "cell_type": "code",
   "execution_count": 14,
   "metadata": {},
   "outputs": [
    {
     "name": "stdout",
     "output_type": "stream",
     "text": [
      "Accuracy of class 0 is 0.7877551020408163\n",
      "Accuracy of class 1 is 0.8907488986784141\n",
      "Accuracy of class 2 is 0.6841085271317829\n",
      "Accuracy of class 3 is 0.7029702970297029\n",
      "Accuracy of class 4 is 0.594704684317719\n",
      "Accuracy of class 5 is 0.43385650224215244\n",
      "Accuracy of class 6 is 0.7651356993736952\n",
      "Accuracy of class 7 is 0.7772373540856031\n",
      "Accuracy of class 8 is 0.6858316221765913\n",
      "Accuracy of class 9 is 0.49950445986124875\n"
     ]
    }
   ],
   "source": [
    "classAccuracy(classes)"
   ]
  },
  {
   "cell_type": "code",
   "execution_count": null,
   "metadata": {},
   "outputs": [],
   "source": []
  }
 ],
 "metadata": {
  "kernelspec": {
   "display_name": "Python 3",
   "language": "python",
   "name": "python3"
  },
  "language_info": {
   "codemirror_mode": {
    "name": "ipython",
    "version": 3
   },
   "file_extension": ".py",
   "mimetype": "text/x-python",
   "name": "python",
   "nbconvert_exporter": "python",
   "pygments_lexer": "ipython3",
   "version": "3.8.3"
  }
 },
 "nbformat": 4,
 "nbformat_minor": 4
}
